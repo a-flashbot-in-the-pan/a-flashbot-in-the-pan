{
 "cells": [
  {
   "cell_type": "markdown",
   "id": "88700dd0",
   "metadata": {},
   "source": [
    "# Flashbots Analysis"
   ]
  },
  {
   "cell_type": "markdown",
   "id": "5575ead6",
   "metadata": {},
   "source": [
    "## Code preamble"
   ]
  },
  {
   "cell_type": "code",
   "execution_count": 62,
   "id": "fdfc4569",
   "metadata": {},
   "outputs": [],
   "source": [
    "from mevlib.utils.utils import connect_to_mongodb\n",
    "import pandas as pd\n",
    "from pymongo import ASCENDING, DESCENDING\n",
    "import matplotlib.pyplot as plt\n",
    "import numpy as np"
   ]
  },
  {
   "cell_type": "markdown",
   "id": "3aee4e80",
   "metadata": {},
   "source": [
    "Connect to MongoDB and get a connection object for our collection. To run this against your own MongoDB instance, set the following three environment variables: MONGODB_ENDPOINT, MONGODB_PASSWORD, MONGODB_USERNAME. For example: \n",
    "```bash\n",
    "export MONGODB_ENDPOINT=\"mongodb://localhost:27017\"\n",
    "export MONGODB_PASSWORD=\"mypassword\"\n",
    "export MONGODB_USERNAME=\"root\"\n",
    "```"
   ]
  },
  {
   "cell_type": "code",
   "execution_count": 3,
   "id": "d03a2f74",
   "metadata": {},
   "outputs": [],
   "source": [
    "db = connect_to_mongodb()\n",
    "confirmed_mevs = db.flashbots.confirmed_mevs"
   ]
  },
  {
   "cell_type": "markdown",
   "id": "1f2eea3c",
   "metadata": {},
   "source": [
    "# Analysis "
   ]
  },
  {
   "cell_type": "markdown",
   "id": "06933a52",
   "metadata": {},
   "source": [
    "When is our first block from? "
   ]
  },
  {
   "cell_type": "code",
   "execution_count": 4,
   "id": "5edf49b9",
   "metadata": {},
   "outputs": [
    {
     "name": "stdout",
     "output_type": "stream",
     "text": [
      "First collected block: 10000071\n"
     ]
    }
   ],
   "source": [
    "first_block = confirmed_mevs.find().sort(\"block_number\", ASCENDING).limit(1)[0][\"block_number\"]\n",
    "print(f\"First collected block: {first_block}\")"
   ]
  },
  {
   "cell_type": "markdown",
   "id": "80571f0e",
   "metadata": {},
   "source": [
    "When was the last block from?"
   ]
  },
  {
   "cell_type": "code",
   "execution_count": 5,
   "id": "7462cced",
   "metadata": {},
   "outputs": [
    {
     "name": "stdout",
     "output_type": "stream",
     "text": [
      "Last collected block: 13699975\n"
     ]
    }
   ],
   "source": [
    "last_block = confirmed_mevs.find().sort(\"block_number\", DESCENDING).limit(1)[0][\"block_number\"]\n",
    "print(f\"Last collected block: {last_block}\")"
   ]
  },
  {
   "cell_type": "markdown",
   "id": "6d731d09",
   "metadata": {},
   "source": [
    "## When is the first Flashbots block from? "
   ]
  },
  {
   "cell_type": "markdown",
   "id": "577e2588",
   "metadata": {},
   "source": [
    "Christof's measurements go back to before Flashbots was operational. This calculation shows the first time the Flashbots API "
   ]
  },
  {
   "cell_type": "code",
   "execution_count": 31,
   "id": "fda296ca",
   "metadata": {},
   "outputs": [
    {
     "name": "stdout",
     "output_type": "stream",
     "text": [
      "First Flashbots block: 11986936\n"
     ]
    }
   ],
   "source": [
    "is_flashbots_query = {\"flashbots_bundle\": True}\n",
    "first_flashbots_block = confirmed_mevs.find(is_flashbots_query).sort(\"block_number\", ASCENDING).limit(1)[0][\"block_number\"]\n",
    "print(f\"First Flashbots block: {first_flashbots_block}\")"
   ]
  },
  {
   "cell_type": "markdown",
   "id": "3ad178a6",
   "metadata": {},
   "source": [
    "## What proportion of Ethereum transactions went through Flashbots? "
   ]
  },
  {
   "cell_type": "markdown",
   "id": "c2b1f777",
   "metadata": {},
   "source": [
    "How many transactions went through Flashbots during this time span?"
   ]
  },
  {
   "cell_type": "code",
   "execution_count": 32,
   "id": "67628d38",
   "metadata": {},
   "outputs": [
    {
     "name": "stdout",
     "output_type": "stream",
     "text": [
      "Flashbots transactions: 410381\n"
     ]
    }
   ],
   "source": [
    "flashbots_txs = confirmed_mevs.count_documents(is_flashbots_query)\n",
    "print(f\"Flashbots transactions: {flashbots_txs}\")"
   ]
  },
  {
   "cell_type": "markdown",
   "id": "46850cc6",
   "metadata": {},
   "source": [
    "How many transactions did not go through Flashbots during this time span?"
   ]
  },
  {
   "cell_type": "code",
   "execution_count": 33,
   "id": "95c00f1f",
   "metadata": {},
   "outputs": [
    {
     "name": "stdout",
     "output_type": "stream",
     "text": [
      "Non-Flashbots transactions: 516402\n"
     ]
    }
   ],
   "source": [
    "is_non_flashbots_query = {\"flashbots_bundle\": False}\n",
    "non_flashbots_txs = confirmed_mevs.count_documents(is_non_flashbots_query)\n",
    "print(f\"Non-Flashbots transactions: {non_flashbots_txs}\")"
   ]
  },
  {
   "cell_type": "markdown",
   "id": "29bc465f",
   "metadata": {},
   "source": [
    "### Flashbots transactions over full time interval "
   ]
  },
  {
   "cell_type": "markdown",
   "id": "ed8263dd",
   "metadata": {},
   "source": [
    "We start by plotting the ratio of Flashbots transactions to non-Flashbots transactions over the entire time interval."
   ]
  },
  {
   "cell_type": "code",
   "execution_count": 9,
   "id": "f00168e2",
   "metadata": {},
   "outputs": [
    {
     "data": {
      "image/png": "[encoded data removed]",
      "text/plain": [
       "<Figure size 432x288 with 1 Axes>"
      ]
     },
     "metadata": {},
     "output_type": "display_data"
    }
   ],
   "source": [
    "fig = plt.figure()\n",
    "fig.patch.set_facecolor('white')\n",
    "plt.pie([flashbots_txs, non_flashbots_txs], labels = [\"Flashbots\", \"Non-Flashbots\"])\n",
    "plt.show() "
   ]
  },
  {
   "cell_type": "markdown",
   "id": "4b0c0be4",
   "metadata": {},
   "source": [
    "We can see that a little less than half of the transactions used flashbots over\n",
    "the _entire_ time span. However, we must ask what these ratios look like\n",
    "independently before and after Flashbots started. Really, we can only go back to\n",
    "when the Flashbots API provides history from, we do not know whether or not that\n",
    "truly coincides with the start of Flashbots."
   ]
  },
  {
   "cell_type": "markdown",
   "id": "ca595a48",
   "metadata": {},
   "source": [
    "### Flashbots transactions before Flashbots started (sanity check, should be zero) "
   ]
  },
  {
   "cell_type": "code",
   "execution_count": 54,
   "id": "59ea93d1",
   "metadata": {},
   "outputs": [
    {
     "name": "stdout",
     "output_type": "stream",
     "text": [
      "Flashbots transactions: 0\n",
      "MEV transactions before Flashbots: 356490\n",
      "Non-Flashbots transactions before Flashbots: 356490\n"
     ]
    }
   ],
   "source": [
    "before_fb_query = {\"block_number\": {\"$lt\": first_flashbots_block}}\n",
    "flashbots_txs_before = confirmed_mevs.count_documents(is_flashbots_query | before_fb_query)\n",
    "\n",
    "\n",
    "non_fb_before_query = is_non_flashbots_query | before_fb_query\n",
    "non_flashbots_txs_before = confirmed_mevs.count_documents(non_fb_before_query)\n",
    "total_mev_before_fb = confirmed_mevs.count_documents(before_fb_query)\n",
    "\n",
    "print(f\"Flashbots transactions: {flashbots_txs_before}\")\n",
    "print(f\"MEV transactions before Flashbots: {total_mev_before_fb}\")\n",
    "print(f\"Non-Flashbots transactions before Flashbots: {non_flashbots_txs_before}\")\n",
    "assert non_flashbots_txs_before == total_mev_before_fb\n",
    "assert flashbots_txs_before == 0"
   ]
  },
  {
   "cell_type": "markdown",
   "id": "86afa35a",
   "metadata": {},
   "source": [
    "We see the expected zero Flashbots transactions, which grants us a little more confidence in the data."
   ]
  },
  {
   "cell_type": "markdown",
   "id": "c2bb3a7e",
   "metadata": {},
   "source": [
    "### Flashbots transactions *after* Flashbots started"
   ]
  },
  {
   "cell_type": "code",
   "execution_count": 55,
   "id": "2955ba2d",
   "metadata": {
    "scrolled": false
   },
   "outputs": [
    {
     "name": "stdout",
     "output_type": "stream",
     "text": [
      "Flashbots transactions: 410381\n",
      "Non-Flashbots transactions after Flashbots began: 159912\n"
     ]
    }
   ],
   "source": [
    "after_fb_query = {\"block_number\": {\"$gte\": first_flashbots_block}}\n",
    "is_fb_after_fb_query = is_flashbots_query | after_fb_query\n",
    "flashbots_txs_after = confirmed_mevs.count_documents(is_fb_after_fb_query)\n",
    "\n",
    "non_fb_after_query = is_non_flashbots_query | after_fb_query\n",
    "non_flashbots_txs_after = confirmed_mevs.count_documents(non_fb_after_query)\n",
    "\n",
    "print(f\"Flashbots transactions: {flashbots_txs_after}\")\n",
    "print(f\"Non-Flashbots transactions after Flashbots began: {non_flashbots_txs_after}\")"
   ]
  },
  {
   "cell_type": "markdown",
   "id": "ea961316",
   "metadata": {},
   "source": [
    "We can now plot the ratio of Flashbots transactions to non-Flashbots transactions over *only* the time interval that Flashbots was operational."
   ]
  },
  {
   "cell_type": "code",
   "execution_count": 12,
   "id": "b89efd7c",
   "metadata": {},
   "outputs": [
    {
     "data": {
      "image/png": "[encoded data removed]",
      "text/plain": [
       "<Figure size 432x288 with 1 Axes>"
      ]
     },
     "metadata": {},
     "output_type": "display_data"
    }
   ],
   "source": [
    "fig = plt.figure()\n",
    "fig.patch.set_facecolor('white')\n",
    "plt.pie([flashbots_txs_after, non_flashbots_txs_after], labels = [\"Flashbots\", \"Non-Flashbots\"])\n",
    "plt.show() "
   ]
  },
  {
   "cell_type": "markdown",
   "id": "ff267ad0",
   "metadata": {},
   "source": [
    "## How have frontrunning profits changed as a result of Flashbots?"
   ]
  },
  {
   "cell_type": "markdown",
   "id": "387bf83a",
   "metadata": {},
   "source": [
    "We compare below the profits that frontrunners were making in the pre-Flashbots days, to their profits since then. This is the average profit per transaction."
   ]
  },
  {
   "cell_type": "code",
   "execution_count": 80,
   "id": "b3f63830",
   "metadata": {},
   "outputs": [
    {
     "name": "stdout",
     "output_type": "stream",
     "text": [
      "Total profits before Flashbots began: 50010.40887936719\n",
      "Total profits after Flashbots began: 27696.3110733925\n",
      "Average profit (per transaction) before Flashbots began: 0.14028558691510895\n",
      "Average profit (per transaction) after Flashbots began: 0.048565055284551094\n",
      "Average profit (per transaction) of Flashbots transactsion after Flashbots began: 0.020530926029875107\n",
      "Average profit (per transaction) of *non*-Flashbots transactions after Flashbots began: 0.1205088368498069\n"
     ]
    }
   ],
   "source": [
    "def make_profit_pipline(match_query):\n",
    "    return [\n",
    "        {\n",
    "            \"$match\": match_query\n",
    "        },\n",
    "        {\n",
    "            \"$group\": {\n",
    "                \"_id\": None,\n",
    "                \"profit\" : {\"$sum\": \"$profit_eth\"}\n",
    "            }\n",
    "        }    \n",
    "    ]\n",
    "\n",
    "def calculate_profit(match):\n",
    "    return confirmed_mevs.aggregate(make_profit_pipline(match)).next()[\"profit\"]\n",
    "\n",
    "\n",
    "before_fb_profit = calculate_profit(non_fb_before_query)\n",
    "print(f\"Total profits before Flashbots began: {before_fb_profit}\")\n",
    "\n",
    "after_fb_profit = calculate_profit(after_fb_query)\n",
    "print(f\"Total profits after Flashbots began: {after_fb_profit}\")\n",
    "\n",
    "before_fb_avg_profit = before_fb_profit / non_flashbots_txs_before\n",
    "print(f\"Average profit (per transaction) before Flashbots began: {before_fb_avg_profit}\")\n",
    "\n",
    "total_txs_after = confirmed_mevs.count_documents(after_fb_query)\n",
    "after_fb_avg_profit = after_fb_profit / total_txs_after\n",
    "print(f\"Average profit (per transaction) after Flashbots began: {after_fb_avg_profit}\")\n",
    "\n",
    "fb_after_fb_profit = calculate_profit(is_fb_after_fb_query)\n",
    "fb_avg_profit_after_fb = fb_after_fb_profit / flashbots_txs_after\n",
    "print(f\"Average profit (per transaction) of Flashbots transactsion after Flashbots began: {fb_avg_profit_after_fb}\")\n",
    "\n",
    "non_fb_after_fb_profit = calculate_profit(non_fb_after_query)\n",
    "non_fb_avg_profit_after_fb = non_fb_after_fb_profit / non_flashbots_txs_after\n",
    "print(f\"Average profit (per transaction) of *non*-Flashbots transactions after Flashbots began: {non_fb_avg_profit_after_fb}\")"
   ]
  },
  {
   "cell_type": "code",
   "execution_count": 91,
   "id": "655366d9",
   "metadata": {},
   "outputs": [
    {
     "data": {
      "image/png": "[encoded data removed]",
      "text/plain": [
       "<Figure size 432x288 with 1 Axes>"
      ]
     },
     "metadata": {},
     "output_type": "display_data"
    }
   ],
   "source": [
    "fig, ax = plt.subplots()\n",
    "fig.patch.set_facecolor('white')\n",
    "\n",
    "profit_segments = [before_fb_avg_profit, fb_avg_profit_after_fb, non_fb_avg_profit_after_fb]\n",
    "profit_labels = [\"Pre-Flashbots\", \"Flashbots TXs\", \"Non-Flashbots TXs\"]\n",
    "\n",
    "ax.pie(profit_segments, labels = profit_labels, normalize=True)\n",
    "plt.show() "
   ]
  },
  {
   "cell_type": "markdown",
   "id": "dd6ba69a",
   "metadata": {},
   "source": [
    "This shows the ratio of average profits for all pre-Flashbots transactions, non-Flashbots transactions after Flashbots began, and Flashbots transactions after Flashbots begain. The interesting thing about this plot is that since Flashbots began, MEV transactions that have circumvented Flashbots have been more signifcantly more profitable."
   ]
  },
  {
   "cell_type": "markdown",
   "id": "070b88d5",
   "metadata": {},
   "source": [
    "We can also view the same data in absolute terms."
   ]
  },
  {
   "cell_type": "code",
   "execution_count": 92,
   "id": "9304ca23",
   "metadata": {},
   "outputs": [
    {
     "data": {
      "image/png": "[encoded data removed]",
      "text/plain": [
       "<Figure size 432x288 with 1 Axes>"
      ]
     },
     "metadata": {},
     "output_type": "display_data"
    }
   ],
   "source": [
    "fig, ax = plt.subplots()\n",
    "fig.patch.set_facecolor('white')\n",
    "\n",
    "plt.bar(profit_labels, profit_segments)\n",
    "plt.show() "
   ]
  },
  {
   "cell_type": "markdown",
   "id": "73cc8f12",
   "metadata": {},
   "source": [
    "We also view these changing profits as a function of time since Flashbots began for both Flashbots and non-Flashbots tranactions."
   ]
  },
  {
   "cell_type": "code",
   "execution_count": 100,
   "id": "031604cc",
   "metadata": {},
   "outputs": [
    {
     "name": "stdout",
     "output_type": "stream",
     "text": [
      "              0\n",
      "0           _id\n",
      "1  block_number\n",
      "2    profit_eth\n"
     ]
    },
    {
     "data": {
      "image/png": "[encoded data removed]",
      "text/plain": [
       "<Figure size 432x288 with 1 Axes>"
      ]
     },
     "metadata": {},
     "output_type": "display_data"
    }
   ],
   "source": [
    "fig, ax = plt.subplots()\n",
    "fig.patch.set_facecolor('white')\n",
    "\n",
    "non_fb_after_df = pd.DataFrame(list(confirmed_mevs.find_one(non_fb_after_query, {\"block_number\":1, \"profit_eth\":1})))\n",
    "fb_after_df = pd.DataFrame(list(confirmed_mevs.find(is_fb_after_fb_query, {\"block_number\":1, \"profit_eth\":1})))\n",
    "#ax.scatter(non_fb_after_df.block_number, non_fb_after_df.profit_eth)\n",
    "print(non_fb_after_df)"
   ]
  },
  {
   "cell_type": "markdown",
   "id": "94edee62",
   "metadata": {},
   "source": [
    "All of the above transactions are from _after_ Flashbots began."
   ]
  },
  {
   "cell_type": "code",
   "execution_count": null,
   "id": "3c6800ff",
   "metadata": {},
   "outputs": [],
   "source": []
  }
 ],
 "metadata": {
  "kernelspec": {
   "display_name": "Python 3 (ipykernel)",
   "language": "python",
   "name": "python3"
  },
  "language_info": {
   "codemirror_mode": {
    "name": "ipython",
    "version": 3
   },
   "file_extension": ".py",
   "mimetype": "text/x-python",
   "name": "python",
   "nbconvert_exporter": "python",
   "pygments_lexer": "ipython3",
   "version": "3.9.6"
  },
  "name": "FlashbotsAnalysis.ipynb"
 },
 "nbformat": 4,
 "nbformat_minor": 5
}

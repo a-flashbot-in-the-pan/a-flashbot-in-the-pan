{
 "cells": [
  {
   "cell_type": "markdown",
   "id": "5e727056",
   "metadata": {},
   "source": [
    "# Flas"
   ]
  },
  {
   "cell_type": "code",
   "execution_count": 36,
   "id": "8650aaba",
   "metadata": {},
   "outputs": [],
   "source": [
    "from mevlib.utils.utils import connect_to_mongodb\n",
    "import pandas as pd\n",
    "from pymongo import ASCENDING, DESCENDING\n",
    "import matplotlib.pyplot as plt"
   ]
  },
  {
   "cell_type": "markdown",
   "id": "6f30d129",
   "metadata": {},
   "source": [
    "Connect to MongoDB and get a connection object for our collection."
   ]
  },
  {
   "cell_type": "code",
   "execution_count": 9,
   "id": "9d379709",
   "metadata": {},
   "outputs": [],
   "source": [
    "db = connect_to_mongodb()\n",
    "confirmed_mevs = db.flashbots.confirmed_mevs"
   ]
  },
  {
   "cell_type": "markdown",
   "id": "4c9c4235",
   "metadata": {},
   "source": [
    "# Analysis"
   ]
  },
  {
   "cell_type": "markdown",
   "id": "04f72ee5",
   "metadata": {},
   "source": [
    "When is our first block from?"
   ]
  },
  {
   "cell_type": "code",
   "execution_count": 30,
   "id": "b7177974",
   "metadata": {},
   "outputs": [
    {
     "name": "stdout",
     "output_type": "stream",
     "text": [
      "First collected block: 10000071\n"
     ]
    }
   ],
   "source": [
    "first_block = confirmed_mevs.find().sort(\"block_number\", ASCENDING).limit(1)[0][\"block_number\"]\n",
    "print(f\"First collected block: {first_block}\")"
   ]
  },
  {
   "cell_type": "markdown",
   "id": "1666c1fd",
   "metadata": {},
   "source": [
    "When was the last block from?"
   ]
  },
  {
   "cell_type": "code",
   "execution_count": 33,
   "id": "840ac872",
   "metadata": {},
   "outputs": [
    {
     "name": "stdout",
     "output_type": "stream",
     "text": [
      "Last collected block: 13699975\n"
     ]
    }
   ],
   "source": [
    "last_block = confirmed_mevs.find().sort(\"block_number\", DESCENDING).limit(1)[0][\"block_number\"]\n",
    "print(f\"Last collected block: {last_block}\")"
   ]
  },
  {
   "cell_type": "markdown",
   "id": "dcffca1c",
   "metadata": {},
   "source": [
    "## When is the first Flashbots block from?"
   ]
  },
  {
   "cell_type": "markdown",
   "id": "bb6fbfbb",
   "metadata": {},
   "source": [
    "Christof's measurements go back to before Flashbots was operational. This calculation shows the first time the Flashbots API "
   ]
  },
  {
   "cell_type": "code",
   "execution_count": 32,
   "id": "0b9b0b1f",
   "metadata": {},
   "outputs": [
    {
     "name": "stdout",
     "output_type": "stream",
     "text": [
      "First Flashbots block: 11986936\n"
     ]
    }
   ],
   "source": [
    "first_flashbots_block = confirmed_mevs.find({\"flashbots_bundle\": True}).sort(\"block_number\", ASCENDING).limit(1)[0][\"block_number\"]\n",
    "print(f\"First Flashbots block: {first_flashbots_block}\")"
   ]
  },
  {
   "cell_type": "markdown",
   "id": "26b9546e",
   "metadata": {},
   "source": [
    "## What proportion of Ethereum transactions went through Flashbots?"
   ]
  },
  {
   "cell_type": "markdown",
   "id": "47910389",
   "metadata": {},
   "source": [
    "How many transactions went through Flashbots during this time span?"
   ]
  },
  {
   "cell_type": "code",
   "execution_count": 28,
   "id": "4667903f",
   "metadata": {},
   "outputs": [
    {
     "name": "stdout",
     "output_type": "stream",
     "text": [
      "Flashbots transactions: 410381\n"
     ]
    }
   ],
   "source": [
    "flashbots_txs = confirmed_mevs.count_documents({\"flashbots_bundle\": True})\n",
    "print(f\"Flashbots transactions: {flashbots_txs}\")"
   ]
  },
  {
   "cell_type": "markdown",
   "id": "f12f8199",
   "metadata": {},
   "source": [
    "How many transactions did not go through Flashbots during this time span?"
   ]
  },
  {
   "cell_type": "code",
   "execution_count": 29,
   "id": "1bc745c6",
   "metadata": {},
   "outputs": [
    {
     "name": "stdout",
     "output_type": "stream",
     "text": [
      "Non-Flashbots transactions: 516402\n"
     ]
    }
   ],
   "source": [
    "non_flashbots_txs = confirmed_mevs.count_documents({\"flashbots_bundle\": False})\n",
    "print(f\"Non-Flashbots transactions: {non_flashbots_txs}\")"
   ]
  },
  {
   "cell_type": "markdown",
   "id": "b72375c5",
   "metadata": {},
   "source": [
    "### Flashbots transactions over full time interval"
   ]
  },
  {
   "cell_type": "markdown",
   "id": "3b489695",
   "metadata": {},
   "source": [
    "We start by plotting the ratio of Flashbots transactions to non-Flashbots transactions over the entire time interval."
   ]
  },
  {
   "cell_type": "code",
   "execution_count": 38,
   "id": "aa3205e7",
   "metadata": {},
   "outputs": [
    {
     "data": {
      "image/png": "[encoded data removed]",
      "text/plain": [
       "<Figure size 432x288 with 1 Axes>"
      ]
     },
     "metadata": {},
     "output_type": "display_data"
    }
   ],
   "source": [
    "plt.pie([flashbots_txs, non_flashbots_txs], labels = [\"Flashbots\", \"Non-Flashbots\"])\n",
    "plt.show() "
   ]
  },
  {
   "cell_type": "markdown",
   "id": "398ba262",
   "metadata": {},
   "source": [
    "We can see that a little less than half of the transactions used flashbots over the *entire* time span. However, we must ask what these ratios look like independently before and after Flashbots started. Really, we can only go back to when the Flashbots API provides history from, we do not know whether or not that truly coincides with the start of Flashbots."
   ]
  },
  {
   "cell_type": "markdown",
   "id": "53c68dbb",
   "metadata": {},
   "source": [
    "### Flashbots transactions before Flashbots started (sanity check, should be zero)"
   ]
  },
  {
   "cell_type": "code",
   "execution_count": 40,
   "id": "0fe24a3f",
   "metadata": {},
   "outputs": [
    {
     "name": "stdout",
     "output_type": "stream",
     "text": [
      "Flashbots transactions: 0\n",
      "Non-Flashbots transactions: 356490\n"
     ]
    }
   ],
   "source": [
    "flashbots_txs_before = confirmed_mevs.count_documents({\"flashbots_bundle\": True, \"block_number\": {\"$lt\": first_flashbots_block}})\n",
    "non_flashbots_txs_before = confirmed_mevs.count_documents({\"flashbots_bundle\": False, \"block_number\": {\"$lt\": first_flashbots_block}})\n",
    "\n",
    "print(f\"Flashbots transactions: {flashbots_txs_before}\")\n",
    "print(f\"Non-Flashbots transactions: {non_flashbots_txs_before}\")"
   ]
  },
  {
   "cell_type": "markdown",
   "id": "844f9dc3",
   "metadata": {},
   "source": [
    "We see the expected zero Flashbots transactions, which grants us a little more confidence in the data."
   ]
  },
  {
   "cell_type": "markdown",
   "id": "0ec11526",
   "metadata": {},
   "source": [
    "### Flashbots transactions *after* Flashbots started (sanity check, should be zero)"
   ]
  },
  {
   "cell_type": "code",
   "execution_count": 41,
   "id": "61841419",
   "metadata": {},
   "outputs": [
    {
     "name": "stdout",
     "output_type": "stream",
     "text": [
      "Flashbots transactions: 410380\n",
      "Non-Flashbots transactions: 159911\n"
     ]
    }
   ],
   "source": [
    "flashbots_txs_after = confirmed_mevs.count_documents({\"flashbots_bundle\": True, \"block_number\": {\"$gte\": first_flashbots_block}})\n",
    "non_flashbots_txs_after = confirmed_mevs.count_documents({\"flashbots_bundle\": False, \"block_number\": {\"$gte\": first_flashbots_block}})\n",
    "\n",
    "print(f\"Flashbots transactions: {flashbots_txs_after}\")\n",
    "print(f\"Non-Flashbots transactions: {non_flashbots_txs_after}\")"
   ]
  },
  {
   "cell_type": "markdown",
   "id": "5408c873",
   "metadata": {},
   "source": [
    "We can now plot the ratio of Flashbots transactions to non-Flashbots transactions over *only* the time interval that Flashbots was operational."
   ]
  },
  {
   "cell_type": "code",
   "execution_count": 42,
   "id": "38eaab34",
   "metadata": {},
   "outputs": [
    {
     "data": {
      "image/png": "[encoded data removed]",
      "text/plain": [
       "<Figure size 432x288 with 1 Axes>"
      ]
     },
     "metadata": {},
     "output_type": "display_data"
    }
   ],
   "source": [
    "plt.pie([flashbots_txs_after, non_flashbots_txs_after], labels = [\"Flashbots\", \"Non-Flashbots\"])\n",
    "plt.show() "
   ]
  },
  {
   "cell_type": "code",
   "execution_count": null,
   "id": "7bd1ec25",
   "metadata": {},
   "outputs": [],
   "source": []
  }
 ],
 "metadata": {
  "kernelspec": {
   "display_name": "Python 3 (ipykernel)",
   "language": "python",
   "name": "python3"
  },
  "language_info": {
   "codemirror_mode": {
    "name": "ipython",
    "version": 3
   },
   "file_extension": ".py",
   "mimetype": "text/x-python",
   "name": "python",
   "nbconvert_exporter": "python",
   "pygments_lexer": "ipython3",
   "version": "3.9.6"
  }
 },
 "nbformat": 4,
 "nbformat_minor": 5
}

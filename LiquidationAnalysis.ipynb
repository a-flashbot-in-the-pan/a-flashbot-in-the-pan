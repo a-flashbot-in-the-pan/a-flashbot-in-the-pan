{
 "cells": [
  {
   "cell_type": "code",
   "execution_count": 1,
   "id": "28842339",
   "metadata": {},
   "outputs": [],
   "source": [
    "import os\n",
    "os.environ[\"MONGODB_ENDPOINT\"] = \"mongodb://pf.uni.lux:27017\""
   ]
  },
  {
   "cell_type": "code",
   "execution_count": 7,
   "id": "e4ad4a4e",
   "metadata": {},
   "outputs": [],
   "source": [
    "from mevlib.utils.utils import connect_to_mongodb\n",
    "from pymongo import ASCENDING, DESCENDING\n",
    "\n",
    "import numpy as np\n",
    "import pandas as pd\n",
    "import matplotlib.pyplot as plt\n",
    "\n",
    "db = connect_to_mongodb()"
   ]
  },
  {
   "cell_type": "code",
   "execution_count": 11,
   "id": "785fe0a8",
   "metadata": {},
   "outputs": [
    {
     "name": "stdout",
     "output_type": "stream",
     "text": [
      "Min block: 13000000\n",
      "Max block: 14444725\n"
     ]
    }
   ],
   "source": [
    "min_block = db.flashbots.liquidation_status.find_one(sort=[(\"block_number\", ASCENDING)])\n",
    "print(\"Min block:\", min_block[\"block_number\"])\n",
    "max_block = db.flashbots.liquidation_status.find_one(sort=[(\"block_number\", DESCENDING)])\n",
    "print(\"Max block:\", max_block[\"block_number\"])"
   ]
  },
  {
   "cell_type": "code",
   "execution_count": 14,
   "id": "9a6a8d47",
   "metadata": {},
   "outputs": [
    {
     "name": "stdout",
     "output_type": "stream",
     "text": [
      "Total liquidations: 12772\n",
      "Flashbot liquidations: 6122\n",
      "Frontrunning liquidations: 1068\n",
      "Flash loan liquidations: 30\n"
     ]
    }
   ],
   "source": [
    "liquidations = db.flashbots.liquidation_results\n",
    "total_count = liquidations.count_documents({})\n",
    "print(\"Total liquidations:\", total_count)\n",
    "flashbots_count = liquidations.count_documents({\"flashbots_bundle\":True})\n",
    "print(\"Flashbot liquidations:\", flashbots_count)\n",
    "frontrunning_count = liquidations.count_documents({\"frontrunning_liquidation\":True})\n",
    "print(\"Frontrunning liquidations:\", frontrunning_count)\n",
    "flash_loan_count = liquidations.count_documents({\"flash_loan\":{\"$ne\":None}})\n",
    "print(\"Flash loan liquidations:\", flash_loan_count)"
   ]
  },
  {
   "cell_type": "code",
   "execution_count": null,
   "id": "f1f70f41",
   "metadata": {},
   "outputs": [],
   "source": []
  }
 ],
 "metadata": {
  "kernelspec": {
   "display_name": "Python 3",
   "language": "python",
   "name": "python3"
  },
  "language_info": {
   "codemirror_mode": {
    "name": "ipython",
    "version": 3
   },
   "file_extension": ".py",
   "mimetype": "text/x-python",
   "name": "python",
   "nbconvert_exporter": "python",
   "pygments_lexer": "ipython3",
   "version": "3.6.9"
  }
 },
 "nbformat": 4,
 "nbformat_minor": 5
}
